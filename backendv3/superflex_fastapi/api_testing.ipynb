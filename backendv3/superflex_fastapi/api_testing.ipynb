{
 "cells": [
  {
   "cell_type": "code",
   "execution_count": 1,
   "metadata": {},
   "outputs": [],
   "source": [
    "import requests"
   ]
  },
  {
   "cell_type": "code",
   "execution_count": 2,
   "metadata": {},
   "outputs": [],
   "source": [
    "def fetch_data():\n",
    "    url = \"http://localhost:8000/manager_league_detail\"\n",
    "    params = {\n",
    "        \"league_id\": \"1055903689237422080\",\n",
    "        \"platform\": \"ktc\",\n",
    "        \"rank_type\": \"power\",\n",
    "        \"guid\": \"788003ab-8b0c-415e-ba1b-593d24a4003c\",\n",
    "        \"roster_type\": \"Single QB\",\n",
    "        \"user_id\": \"342397313982976000\"\n",
    "    }\n",
    "\n",
    "    response = requests.get(url, params=params)\n",
    "    if response.status_code == 200:\n",
    "        return response.json()\n",
    "    else:\n",
    "        return f\"Error fetching data: {response.status_code}\""
   ]
  },
  {
   "cell_type": "code",
   "execution_count": 7,
   "metadata": {},
   "outputs": [
    {
     "name": "stdout",
     "output_type": "stream",
     "text": [
      "[{'user_id': '342397313982976000', 'display_name': 'Gray_Matter', 'full_name': '2024 Round 1 Pick 7', 'draft_year': '2024', 'hyper_link': None, 'team': None, 'sleeper_id': None, 'player_position': 'PICKS', 'fantasy_position': 'PICKS', 'fantasy_designation': 'PICKS', 'player_value': 6220, 'player_rank': -1}, {'user_id': '342397313982976000', 'display_name': 'Gray_Matter', 'full_name': '2024 Round 2 Pick 10', 'draft_year': '2024', 'hyper_link': None, 'team': None, 'sleeper_id': None, 'player_position': 'PICKS', 'fantasy_position': 'PICKS', 'fantasy_designation': 'PICKS', 'player_value': 3509, 'player_rank': -1}, {'user_id': '342397313982976000', 'display_name': 'Gray_Matter', 'full_name': '2024 Round 2 Pick 11', 'draft_year': '2024', 'hyper_link': None, 'team': None, 'sleeper_id': None, 'player_position': 'PICKS', 'fantasy_position': 'PICKS', 'fantasy_designation': 'PICKS', 'player_value': 3384, 'player_rank': -1}, {'user_id': '342397313982976000', 'display_name': 'Gray_Matter', 'full_name': '2024 Round 3 Pick 7', 'draft_year': '2024', 'hyper_link': None, 'team': None, 'sleeper_id': None, 'player_position': 'PICKS', 'fantasy_position': 'PICKS', 'fantasy_designation': 'PICKS', 'player_value': 2285, 'player_rank': -1}, {'user_id': '342397313982976000', 'display_name': 'Gray_Matter', 'full_name': '2024 Round 4 Pick 4', 'draft_year': '2024', 'hyper_link': None, 'team': None, 'sleeper_id': None, 'player_position': 'PICKS', 'fantasy_position': 'PICKS', 'fantasy_designation': 'PICKS', 'player_value': 1452, 'player_rank': -1}, {'user_id': '342397313982976000', 'display_name': 'Gray_Matter', 'full_name': '2025 Mid 1st', 'draft_year': '2025', 'hyper_link': '2025-mid-1st-1362', 'team': None, 'sleeper_id': None, 'player_position': 'PICKS', 'fantasy_position': 'PICKS', 'fantasy_designation': 'PICKS', 'player_value': 5733, 'player_rank': -1}, {'user_id': '342397313982976000', 'display_name': 'Gray_Matter', 'full_name': '2025 Mid 3rd', 'draft_year': '2025', 'hyper_link': '2025-mid-3rd-1368', 'team': None, 'sleeper_id': None, 'player_position': 'PICKS', 'fantasy_position': 'PICKS', 'fantasy_designation': 'PICKS', 'player_value': 2199, 'player_rank': -1}, {'user_id': '342397313982976000', 'display_name': 'Gray_Matter', 'full_name': '2025 Mid 4th', 'draft_year': '2025', 'hyper_link': '2025-mid-4th-1371', 'team': None, 'sleeper_id': None, 'player_position': 'PICKS', 'fantasy_position': 'PICKS', 'fantasy_designation': 'PICKS', 'player_value': 1286, 'player_rank': -1}, {'user_id': '342397313982976000', 'display_name': 'Gray_Matter', 'full_name': '2026 Mid 1st', 'draft_year': '2026', 'hyper_link': '2026-mid-1st-1528', 'team': None, 'sleeper_id': None, 'player_position': 'PICKS', 'fantasy_position': 'PICKS', 'fantasy_designation': 'PICKS', 'player_value': 5283, 'player_rank': -1}, {'user_id': '342397313982976000', 'display_name': 'Gray_Matter', 'full_name': '2026 Mid 2nd', 'draft_year': '2026', 'hyper_link': '2026-mid-2nd-1531', 'team': None, 'sleeper_id': None, 'player_position': 'PICKS', 'fantasy_position': 'PICKS', 'fantasy_designation': 'PICKS', 'player_value': 3264, 'player_rank': -1}, {'user_id': '342397313982976000', 'display_name': 'Gray_Matter', 'full_name': '2026 Mid 3rd', 'draft_year': '2026', 'hyper_link': '2026-mid-3rd-1534', 'team': None, 'sleeper_id': None, 'player_position': 'PICKS', 'fantasy_position': 'PICKS', 'fantasy_designation': 'PICKS', 'player_value': 2002, 'player_rank': -1}, {'user_id': '342397313982976000', 'display_name': 'Gray_Matter', 'full_name': '2026 Mid 4th', 'draft_year': '2026', 'hyper_link': '2026-mid-4th-1537', 'team': None, 'sleeper_id': None, 'player_position': 'PICKS', 'fantasy_position': 'PICKS', 'fantasy_designation': 'PICKS', 'player_value': 1138, 'player_rank': -1}, {'user_id': '342397313982976000', 'display_name': 'Gray_Matter', 'full_name': 'Bijan Robinson', 'draft_year': None, 'hyper_link': 'bijan-robinson-1414', 'team': 'ATL', 'sleeper_id': '9509', 'player_position': 'RB', 'fantasy_position': 'RB', 'fantasy_designation': 'STARTER', 'player_value': 9054, 'player_rank': 1}, {'user_id': '342397313982976000', 'display_name': 'Gray_Matter', 'full_name': 'Breece Hall', 'draft_year': None, 'hyper_link': 'breece-hall-1224', 'team': 'NYJ', 'sleeper_id': '8155', 'player_position': 'RB', 'fantasy_position': 'RB', 'fantasy_designation': 'STARTER', 'player_value': 8556, 'player_rank': 2}, {'user_id': '342397313982976000', 'display_name': 'Gray_Matter', 'full_name': 'Jahmyr Gibbs', 'draft_year': None, 'hyper_link': 'jahmyr-gibbs-1415', 'team': 'DET', 'sleeper_id': '9221', 'player_position': 'RB', 'fantasy_position': 'FLEX', 'fantasy_designation': 'STARTER', 'player_value': 8358, 'player_rank': 3}, {'user_id': '342397313982976000', 'display_name': 'Gray_Matter', 'full_name': 'Drake London', 'draft_year': None, 'hyper_link': 'drake-london-1268', 'team': 'ATL', 'sleeper_id': '8112', 'player_position': 'WR', 'fantasy_position': 'WR', 'fantasy_designation': 'STARTER', 'player_value': 7178, 'player_rank': 10}, {'user_id': '342397313982976000', 'display_name': 'Gray_Matter', 'full_name': 'Brandon Aiyuk', 'draft_year': None, 'hyper_link': 'brandon-aiyuk-538', 'team': 'SF', 'sleeper_id': '6803', 'player_position': 'WR', 'fantasy_position': 'WR', 'fantasy_designation': 'STARTER', 'player_value': 6933, 'player_rank': 12}, {'user_id': '342397313982976000', 'display_name': 'Gray_Matter', 'full_name': 'DeVonta Smith', 'draft_year': None, 'hyper_link': 'devonta-smith-1005', 'team': 'PHI', 'sleeper_id': '7525', 'player_position': 'WR', 'fantasy_position': 'FLEX', 'fantasy_designation': 'STARTER', 'player_value': 6774, 'player_rank': 17}, {'user_id': '342397313982976000', 'display_name': 'Gray_Matter', 'full_name': 'Devon Achane', 'draft_year': None, 'hyper_link': 'devon-achane-1398', 'team': 'MIA', 'sleeper_id': '9226', 'player_position': 'RB', 'fantasy_position': 'FLEX', 'fantasy_designation': 'STARTER', 'player_value': 6661, 'player_rank': 7}, {'user_id': '342397313982976000', 'display_name': 'Gray_Matter', 'full_name': 'Travis Etienne', 'draft_year': None, 'hyper_link': 'travis-etienne-1030', 'team': 'JAX', 'sleeper_id': '7543', 'player_position': 'RB', 'fantasy_position': 'RB', 'fantasy_designation': 'BENCH', 'player_value': 6536, 'player_rank': 8}, {'user_id': '342397313982976000', 'display_name': 'Gray_Matter', 'full_name': 'Rashee Rice', 'draft_year': None, 'hyper_link': 'rashee-rice-1447', 'team': 'KC', 'sleeper_id': '10229', 'player_position': 'WR', 'fantasy_position': 'WR', 'fantasy_designation': 'BENCH', 'player_value': 6499, 'player_rank': 21}, {'user_id': '342397313982976000', 'display_name': 'Gray_Matter', 'full_name': 'Saquon Barkley', 'draft_year': None, 'hyper_link': 'saquon-barkley-1', 'team': 'NYG', 'sleeper_id': '4866', 'player_position': 'RB', 'fantasy_position': 'RB', 'fantasy_designation': 'BENCH', 'player_value': 6453, 'player_rank': 9}, {'user_id': '342397313982976000', 'display_name': 'Gray_Matter', 'full_name': 'Justin Herbert', 'draft_year': None, 'hyper_link': 'justin-herbert-599', 'team': 'LAC', 'sleeper_id': '6797', 'player_position': 'QB', 'fantasy_position': 'QB', 'fantasy_designation': 'STARTER', 'player_value': 6361, 'player_rank': 8}, {'user_id': '342397313982976000', 'display_name': 'Gray_Matter', 'full_name': 'Dalton Kincaid', 'draft_year': None, 'hyper_link': 'dalton-kincaid-1428', 'team': 'BUF', 'sleeper_id': '10236', 'player_position': 'TE', 'fantasy_position': 'TE', 'fantasy_designation': 'STARTER', 'player_value': 6123, 'player_rank': 5}, {'user_id': '342397313982976000', 'display_name': 'Gray_Matter', 'full_name': 'Terry McLaurin', 'draft_year': None, 'hyper_link': 'terry-mclaurin-328', 'team': 'WAS', 'sleeper_id': '5927', 'player_position': 'WR', 'fantasy_position': 'WR', 'fantasy_designation': 'BENCH', 'player_value': 4700, 'player_rank': 38}, {'user_id': '342397313982976000', 'display_name': 'Gray_Matter', 'full_name': 'Bryce Young', 'draft_year': None, 'hyper_link': 'bryce-young-1456', 'team': 'CAR', 'sleeper_id': '9228', 'player_position': 'QB', 'fantasy_position': 'QB', 'fantasy_designation': 'BENCH', 'player_value': 3357, 'player_rank': 19}, {'user_id': '342397313982976000', 'display_name': 'Gray_Matter', 'full_name': 'Rashod Bateman', 'draft_year': None, 'hyper_link': 'rashod-bateman-1070', 'team': 'BAL', 'sleeper_id': '7571', 'player_position': 'WR', 'fantasy_position': 'WR', 'fantasy_designation': 'BENCH', 'player_value': 2650, 'player_rank': 74}, {'user_id': '342397313982976000', 'display_name': 'Gray_Matter', 'full_name': 'Treylon Burks', 'draft_year': None, 'hyper_link': 'treylon-burks-1269', 'team': 'TEN', 'sleeper_id': '8135', 'player_position': 'WR', 'fantasy_position': 'WR', 'fantasy_designation': 'BENCH', 'player_value': 2642, 'player_rank': 75}, {'user_id': '342397313982976000', 'display_name': 'Gray_Matter', 'full_name': 'Tucker Kraft', 'draft_year': None, 'hyper_link': 'tucker-kraft-1418', 'team': 'GB', 'sleeper_id': '9484', 'player_position': 'TE', 'fantasy_position': 'TE', 'fantasy_designation': 'BENCH', 'player_value': 2619, 'player_rank': 20}, {'user_id': '342397313982976000', 'display_name': 'Gray_Matter', 'full_name': 'Noah Fant', 'draft_year': None, 'hyper_link': 'noah-fant-243', 'team': 'SEA', 'sleeper_id': '5857', 'player_position': 'TE', 'fantasy_position': 'TE', 'fantasy_designation': 'BENCH', 'player_value': 2019, 'player_rank': 25}, {'user_id': '342397313982976000', 'display_name': 'Gray_Matter', 'full_name': 'Chris Rodriguez', 'draft_year': None, 'hyper_link': 'chris-rodriguez-1389', 'team': 'WAS', 'sleeper_id': '10219', 'player_position': 'RB', 'fantasy_position': 'RB', 'fantasy_designation': 'BENCH', 'player_value': 1931, 'player_rank': 64}, {'user_id': '342397313982976000', 'display_name': 'Gray_Matter', 'full_name': 'K.J. Osborn', 'draft_year': None, 'hyper_link': 'kj-osborn-912', 'team': 'MIN', 'sleeper_id': '7066', 'player_position': 'WR', 'fantasy_position': 'WR', 'fantasy_designation': 'BENCH', 'player_value': 1814, 'player_rank': 94}, {'user_id': '342397313982976000', 'display_name': 'Gray_Matter', 'full_name': 'Jelani Woods', 'draft_year': None, 'hyper_link': 'jelani-woods-1305', 'team': 'IND', 'sleeper_id': '8219', 'player_position': 'TE', 'fantasy_position': 'TE', 'fantasy_designation': 'BENCH', 'player_value': 1498, 'player_rank': 35}, {'user_id': '342397313982976000', 'display_name': 'Gray_Matter', 'full_name': 'Mike Gesicki', 'draft_year': None, 'hyper_link': 'mike-gesicki-330', 'team': 'NE', 'sleeper_id': '4993', 'player_position': 'TE', 'fantasy_position': 'TE', 'fantasy_designation': 'BENCH', 'player_value': 1445, 'player_rank': 36}, {'user_id': '342397313982976000', 'display_name': 'Gray_Matter', 'full_name': \"D'Onta Foreman\", 'draft_year': None, 'hyper_link': 'd-onta-foreman-358', 'team': 'CHI', 'sleeper_id': '4111', 'player_position': 'RB', 'fantasy_position': 'RB', 'fantasy_designation': 'BENCH', 'player_value': 1371, 'player_rank': 77}, {'user_id': '342397313982976000', 'display_name': 'Gray_Matter', 'full_name': 'Michael Gallup', 'draft_year': None, 'hyper_link': 'michael-gallup-237', 'team': 'DAL', 'sleeper_id': '5038', 'player_position': 'WR', 'fantasy_position': 'WR', 'fantasy_designation': 'BENCH', 'player_value': 1268, 'player_rank': 115}, {'user_id': '342397313982976000', 'display_name': 'Gray_Matter', 'full_name': 'Tyler Conklin', 'draft_year': None, 'hyper_link': 'tyler-conklin-489', 'team': 'NYJ', 'sleeper_id': '5133', 'player_position': 'TE', 'fantasy_position': 'TE', 'fantasy_designation': 'BENCH', 'player_value': 1053, 'player_rank': 43}, {'user_id': '342397313982976000', 'display_name': 'Gray_Matter', 'full_name': 'Justyn Ross', 'draft_year': None, 'hyper_link': 'justyn-ross-1280', 'team': 'KC', 'sleeper_id': '8140', 'player_position': 'WR', 'fantasy_position': 'WR', 'fantasy_designation': 'BENCH', 'player_value': 956, 'player_rank': 130}, {'user_id': '342397313982976000', 'display_name': 'Gray_Matter', 'full_name': 'Kylen Granson', 'draft_year': None, 'hyper_link': 'kylen-granson-1119', 'team': 'IND', 'sleeper_id': '7602', 'player_position': 'TE', 'fantasy_position': 'TE', 'fantasy_designation': 'BENCH', 'player_value': 699, 'player_rank': 51}, {'user_id': '342397313982976000', 'display_name': 'Gray_Matter', 'full_name': 'Joe Flacco', 'draft_year': None, 'hyper_link': 'joe-flacco-722', 'team': None, 'sleeper_id': '19', 'player_position': 'QB', 'fantasy_position': 'QB', 'fantasy_designation': 'BENCH', 'player_value': 357, 'player_rank': 58}, {'user_id': '342397313982976000', 'display_name': 'Gray_Matter', 'full_name': 'Jarrett Stidham', 'draft_year': None, 'hyper_link': 'jarrett-stidham-156', 'team': 'DEN', 'sleeper_id': '6136', 'player_position': 'QB', 'fantasy_position': 'QB', 'fantasy_designation': 'BENCH', 'player_value': 347, 'player_rank': 59}, {'user_id': '342397313982976000', 'display_name': 'Gray_Matter', 'full_name': 'Logan Thomas', 'draft_year': None, 'hyper_link': 'logan-thomas-653', 'team': 'WAS', 'sleeper_id': '2251', 'player_position': 'TE', 'fantasy_position': 'TE', 'fantasy_designation': 'BENCH', 'player_value': 317, 'player_rank': 75}]\n"
     ]
    }
   ],
   "source": [
    "data = fetch_data()\n",
    "print(data[0:100])"
   ]
  },
  {
   "cell_type": "code",
   "execution_count": 6,
   "metadata": {},
   "outputs": [
    {
     "data": {
      "text/plain": [
       "'Gray_Matter'"
      ]
     },
     "execution_count": 6,
     "metadata": {},
     "output_type": "execute_result"
    }
   ],
   "source": [
    "sm = {}\n",
    "p1 = data[0]['display_name']\n",
    "sm[]"
   ]
  },
  {
   "cell_type": "code",
   "execution_count": null,
   "metadata": {},
   "outputs": [],
   "source": [
    "data1 = {\n",
    "    'key':'0',\n",
    "    'type':'manager',\n",
    "    'label':'Gray_Matter',\n",
    "    'data': 'Gray_Matter',\n",
    "    'children': [\n",
    "        {\n",
    "        'key': '0_0',\n",
    "      'type': 'Position',\n",
    "      'label': 'QB',\n",
    "      'data': 'qb',\n",
    "      'children': [\n",
    "        {\n",
    "          'key': '0_0_0',\n",
    "          'type': 'country',\n",
    "          'label': 'Argentina',\n",
    "          'data': 'ar'\n",
    "        },\n",
    "        {\n",
    "          'key': '0_0_1',\n",
    "          'type': 'country',\n",
    "          'label': 'Croatia',\n",
    "          'data': 'hr'\n",
    "        }]\n",
    "        },\n",
    "    ]\n",
    "}"
   ]
  },
  {
   "cell_type": "code",
   "execution_count": null,
   "metadata": {},
   "outputs": [],
   "source": [
    "const data = ref({\n",
    "  key: '0',\n",
    "  type: 'country',\n",
    "  label: 'Argentina', \n",
    "  data: 'ar',\n",
    "  children: [\n",
    "    {\n",
    "      key: '0_0',\n",
    "      type: 'country',\n",
    "      label: 'Argentina',\n",
    "      data: 'ar',\n",
    "      children: [\n",
    "        {\n",
    "          key: '0_0_0',\n",
    "          type: 'country',\n",
    "          label: 'Argentina',\n",
    "          data: 'ar'\n",
    "        },\n",
    "        {\n",
    "          key: '0_0_1',\n",
    "          type: 'country',\n",
    "          label: 'Croatia',\n",
    "          data: 'hr'\n",
    "        }\n",
    "      ]\n",
    "    },\n",
    "    {\n",
    "      key: '0_1',\n",
    "      type: 'country',\n",
    "      label: 'France',\n",
    "      data: 'fr',\n",
    "      children: [\n",
    "        {\n",
    "          key: '0_1_0',\n",
    "          type: 'country',\n",
    "          label: 'France',\n",
    "          data: 'fr'\n",
    "        },\n",
    "        {\n",
    "          key: '0_1_1',\n",
    "          type: 'country',\n",
    "          label: 'Morocco',\n",
    "          data: 'ma'\n",
    "        }\n",
    "      ]\n",
    "    }\n",
    "  ]\n",
    "})"
   ]
  }
 ],
 "metadata": {
  "kernelspec": {
   "display_name": "Python 3",
   "language": "python",
   "name": "python3"
  },
  "language_info": {
   "codemirror_mode": {
    "name": "ipython",
    "version": 3
   },
   "file_extension": ".py",
   "mimetype": "text/x-python",
   "name": "python",
   "nbconvert_exporter": "python",
   "pygments_lexer": "ipython3",
   "version": "3.11.7"
  }
 },
 "nbformat": 4,
 "nbformat_minor": 2
}
